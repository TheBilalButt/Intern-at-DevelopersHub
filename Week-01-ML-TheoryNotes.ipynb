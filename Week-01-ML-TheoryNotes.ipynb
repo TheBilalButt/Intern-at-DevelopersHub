{
  "nbformat": 4,
  "nbformat_minor": 0,
  "metadata": {
    "colab": {
      "provenance": [],
      "authorship_tag": "ABX9TyMc744HRkGOePTvpiEjgWMv",
      "include_colab_link": true
    },
    "kernelspec": {
      "name": "python3",
      "display_name": "Python 3"
    },
    "language_info": {
      "name": "python"
    }
  },
  "cells": [
    {
      "cell_type": "markdown",
      "metadata": {
        "id": "view-in-github",
        "colab_type": "text"
      },
      "source": [
        "<a href=\"https://colab.research.google.com/github/TheBilalButt/Intern-at-DevelopersHub/blob/main/Week-01-ML-TheoryNotes.ipynb\" target=\"_parent\"><img src=\"https://colab.research.google.com/assets/colab-badge.svg\" alt=\"Open In Colab\"/></a>"
      ]
    },
    {
      "cell_type": "code",
      "execution_count": null,
      "metadata": {
        "colab": {
          "base_uri": "https://localhost:8080/"
        },
        "id": "V5xWmrciw5gZ",
        "outputId": "9ac31d2f-2036-425d-ba87-ac5e6d938b80"
      },
      "outputs": [
        {
          "output_type": "stream",
          "name": "stdout",
          "text": [
            "Requirement already satisfied: seaborn in /usr/local/lib/python3.11/dist-packages (0.13.2)\n",
            "Requirement already satisfied: numpy!=1.24.0,>=1.20 in /usr/local/lib/python3.11/dist-packages (from seaborn) (2.0.2)\n",
            "Requirement already satisfied: pandas>=1.2 in /usr/local/lib/python3.11/dist-packages (from seaborn) (2.2.2)\n",
            "Requirement already satisfied: matplotlib!=3.6.1,>=3.4 in /usr/local/lib/python3.11/dist-packages (from seaborn) (3.10.0)\n",
            "Requirement already satisfied: contourpy>=1.0.1 in /usr/local/lib/python3.11/dist-packages (from matplotlib!=3.6.1,>=3.4->seaborn) (1.3.2)\n",
            "Requirement already satisfied: cycler>=0.10 in /usr/local/lib/python3.11/dist-packages (from matplotlib!=3.6.1,>=3.4->seaborn) (0.12.1)\n",
            "Requirement already satisfied: fonttools>=4.22.0 in /usr/local/lib/python3.11/dist-packages (from matplotlib!=3.6.1,>=3.4->seaborn) (4.57.0)\n",
            "Requirement already satisfied: kiwisolver>=1.3.1 in /usr/local/lib/python3.11/dist-packages (from matplotlib!=3.6.1,>=3.4->seaborn) (1.4.8)\n",
            "Requirement already satisfied: packaging>=20.0 in /usr/local/lib/python3.11/dist-packages (from matplotlib!=3.6.1,>=3.4->seaborn) (24.2)\n",
            "Requirement already satisfied: pillow>=8 in /usr/local/lib/python3.11/dist-packages (from matplotlib!=3.6.1,>=3.4->seaborn) (11.2.1)\n",
            "Requirement already satisfied: pyparsing>=2.3.1 in /usr/local/lib/python3.11/dist-packages (from matplotlib!=3.6.1,>=3.4->seaborn) (3.2.3)\n",
            "Requirement already satisfied: python-dateutil>=2.7 in /usr/local/lib/python3.11/dist-packages (from matplotlib!=3.6.1,>=3.4->seaborn) (2.9.0.post0)\n",
            "Requirement already satisfied: pytz>=2020.1 in /usr/local/lib/python3.11/dist-packages (from pandas>=1.2->seaborn) (2025.2)\n",
            "Requirement already satisfied: tzdata>=2022.7 in /usr/local/lib/python3.11/dist-packages (from pandas>=1.2->seaborn) (2025.2)\n",
            "Requirement already satisfied: six>=1.5 in /usr/local/lib/python3.11/dist-packages (from python-dateutil>=2.7->matplotlib!=3.6.1,>=3.4->seaborn) (1.17.0)\n"
          ]
        }
      ],
      "source": [
        "!pip install seaborn\n"
      ]
    },
    {
      "cell_type": "code",
      "source": [
        "import numpy as np\n",
        "import pandas as pd\n",
        "import matplotlib.pyplot as plt\n",
        "import seaborn as sns\n"
      ],
      "metadata": {
        "id": "3z3jFpVYDwPc"
      },
      "execution_count": null,
      "outputs": []
    },
    {
      "cell_type": "markdown",
      "source": [
        "## 📘 Week 1 – Theory\n",
        "\n",
        "---\n",
        "\n",
        "### 🤖 What is Machine Learning?\n",
        "\n",
        "Machine Learning (ML) is a way to teach computers to learn from data **without writing all the rules manually**. The more data the computer sees, the better it can learn and make predictions.\n",
        "\n",
        "🧠 **Real-life example:**\n",
        "\n",
        "* Think of how YouTube recommends videos. It learns what you like based on your history and shows similar content without anyone telling it the rules.\n",
        "\n",
        "---\n",
        "\n",
        "###  Types of Machine Learning\n",
        "\n",
        "#### 1. **Supervised Learning**\n",
        "\n",
        "We give the computer **data with correct answers** so it can learn to predict future answers.\n",
        "\n",
        " **Real-life example:**\n",
        "\n",
        "* A spam filter learns from emails labeled \"spam\" or \"not spam\" and uses that to predict future emails.\n",
        "\n",
        " Includes:\n",
        "\n",
        "* Classification (e.g., predicting if someone has a disease: Yes/No)\n",
        "* Regression (e.g., predicting house prices)\n",
        "\n",
        "---\n",
        "\n",
        "#### 2. **Unsupervised Learning**\n",
        "\n",
        "We give the computer **data without any labels**, and it tries to find patterns on its own.\n",
        "\n",
        " **Real-life example:**\n",
        "\n",
        "* A music app groups songs into genres without knowing their actual labels, just based on how people listen to them.\n",
        "\n",
        " Includes:\n",
        "\n",
        "* Clustering (e.g., customer groups in shopping data)\n",
        "* Dimensionality Reduction (e.g., simplifying complex data to understand it better)\n",
        "\n",
        "---\n",
        "\n",
        "#### 3. **Reinforcement Learning**\n",
        "\n",
        "The computer learns by **making mistakes and getting rewards**. It improves its actions based on the results it gets.\n",
        "\n",
        " **Real-life example:**\n",
        "\n",
        "* A self-driving car learns to stay in its lane and avoid obstacles by getting points for good driving and penalties for mistakes.\n",
        "\n",
        "---\n",
        "\n",
        "###  Difference Between AI, ML, and Deep Learning\n",
        "\n",
        "| Term                             | Meaning                                                         | Example                        |\n",
        "| -------------------------------- | --------------------------------------------------------------- | ------------------------------ |\n",
        "| **AI (Artificial Intelligence)** | A broad field where machines act smart like humans              | Voice Assistants (Siri, Alexa) |\n",
        "| **ML (Machine Learning)**        | A part of AI where machines learn from data                     | Netflix Recommendations        |\n",
        "| **DL (Deep Learning)**           | A type of ML using complex layers of learning (neural networks) | Face Recognition in Photos     |\n"
      ],
      "metadata": {
        "id": "5Z4eQr9-1vGY"
      }
    }
  ]
}