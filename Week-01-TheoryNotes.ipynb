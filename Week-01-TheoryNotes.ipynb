{
  "nbformat": 4,
  "nbformat_minor": 0,
  "metadata": {
    "colab": {
      "provenance": [],
      "authorship_tag": "ABX9TyMn5KKZNJVxW8nboaXfpAJb",
      "include_colab_link": true
    },
    "kernelspec": {
      "name": "python3",
      "display_name": "Python 3"
    },
    "language_info": {
      "name": "python"
    }
  },
  "cells": [
    {
      "cell_type": "markdown",
      "metadata": {
        "id": "view-in-github",
        "colab_type": "text"
      },
      "source": [
        "<a href=\"https://colab.research.google.com/github/TheBilalButt/Intern-at-DevelopersHub/blob/main/Week-01-TheoryNotes.ipynb\" target=\"_parent\"><img src=\"https://colab.research.google.com/assets/colab-badge.svg\" alt=\"Open In Colab\"/></a>"
      ]
    },
    {
      "cell_type": "markdown",
      "source": [
        "##Week 1 – Machine Learning Theory\n",
        "\n",
        "---\n",
        "\n",
        "### What is Machine Learning?\n",
        "\n",
        "Machine Learning (ML) is a way to teach computers to learn from data **without writing all the rules manually**. The more data the computer sees, the better it can learn and make predictions.\n",
        "\n",
        "**Real-life example:**\n",
        "\n",
        "* Think of how YouTube recommends videos. It learns what you like based on your history and shows similar content without anyone telling it the rules.\n",
        "\n",
        "---\n",
        "\n",
        "###  Types of Machine Learning\n",
        "\n",
        "#### 1. **Supervised Learning**\n",
        "\n",
        "We give the computer **data with correct answers** so it can learn to predict future answers.\n",
        "\n",
        "**Real-life example:**\n",
        "\n",
        "* A spam filter learns from emails labeled \"spam\" or \"not spam\" and uses that to predict future emails.\n",
        "\n",
        "Includes:\n",
        "\n",
        "* Classification (e.g., predicting if someone has a disease: Yes/No)\n",
        "* Regression (e.g., predicting house prices)\n",
        "\n",
        "---\n",
        "\n",
        "#### 2. **Unsupervised Learning**\n",
        "\n",
        "We give the computer **data without any labels**, and it tries to find patterns on its own.\n",
        "\n",
        " **Real-life example:**\n",
        "\n",
        "* A music app groups songs into genres without knowing their actual labels, just based on how people listen to them.\n",
        "\n",
        "Includes:\n",
        "\n",
        "* Clustering (e.g., customer groups in shopping data)\n",
        "* Dimensionality Reduction (e.g., simplifying complex data to understand it better)\n",
        "\n",
        "---\n",
        "\n",
        "#### 3. **Reinforcement Learning**\n",
        "\n",
        "The computer learns by **making mistakes and getting rewards**. It improves its actions based on the results it gets.\n",
        "\n",
        " **Real-life example:**\n",
        "\n",
        "* A self-driving car learns to stay in its lane and avoid obstacles by getting points for good driving and penalties for mistakes.\n",
        "\n",
        "---\n",
        "\n",
        "###  Difference Between AI, ML, and Deep Learning\n",
        "\n",
        "| Term                             | Meaning                                                         | Example                        |\n",
        "| -------------------------------- | --------------------------------------------------------------- | ------------------------------ |\n",
        "| **AI (Artificial Intelligence)** | A broad field where machines act smart like humans              | Voice Assistants (Siri, Alexa) |\n",
        "| **ML (Machine Learning)**        | A part of AI where machines learn from data                     | Netflix Recommendations        |\n",
        "| **DL (Deep Learning)**           | A type of ML using complex layers of learning (neural networks) | Face Recognition in Photos     |\n"
      ],
      "metadata": {
        "id": "oykF9_ex7MUL"
      }
    }
  ]
}