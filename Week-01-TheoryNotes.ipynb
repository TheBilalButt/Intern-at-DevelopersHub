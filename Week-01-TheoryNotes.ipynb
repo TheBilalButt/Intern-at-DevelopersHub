{
  "nbformat": 4,
  "nbformat_minor": 0,
  "metadata": {
    "colab": {
      "provenance": [],
      "authorship_tag": "ABX9TyPmbE3MoQar2XomYJevcy+C"
    },
    "kernelspec": {
      "name": "python3",
      "display_name": "Python 3"
    },
    "language_info": {
      "name": "python"
    }
  },
  "cells": [
    {
      "cell_type": "markdown",
      "source": [
        "## Week 1 – Machine Learning Basics (Theory Notes with Real-Life Examples)\n",
        "\n",
        "### What is Machine Learning?\n",
        "\n",
        "Machine Learning (ML) is a way to teach computers to learn from data without writing all the rules manually.\n",
        "\n",
        "Real-life example:\n",
        "- YouTube recommends videos based on your past viewing history.\n",
        "\n",
        "### Types of Machine Learning\n",
        "\n",
        "#### 1. Supervised Learning\n",
        "\n",
        "We give the computer data with correct answers so it can learn.\n",
        "\n",
        "Example:\n",
        "- A spam filter learns from labeled emails (spam/not spam).\n",
        "\n",
        "Includes:\n",
        "- Classification (e.g., disease prediction)\n",
        "- Regression (e.g., house price prediction)\n",
        "\n",
        "#### 2. Unsupervised Learning\n",
        "\n",
        "We give the computer data without labels and it finds patterns.\n",
        "\n",
        "Example:\n",
        "- A music app groups songs based on listening patterns.\n",
        "\n",
        "Includes:\n",
        "- Clustering (e.g., customer groups)\n",
        "- Dimensionality Reduction\n",
        "\n",
        "#### 3. Reinforcement Learning\n",
        "\n",
        "The computer learns from rewards and mistakes.\n",
        "\n",
        "Example:\n",
        "- A self-driving car improves as it drives and avoids obstacles.\n",
        "\n",
        "### Difference Between AI, ML, and Deep Learning\n",
        "\n",
        "AI: Broad field where machines act smart (e.g., Siri)  \n",
        "ML: Subset of AI where machines learn (e.g., Netflix recommendations)  \n",
        "DL: Subset of ML using deep neural networks (e.g., Face recognition)\n"
      ],
      "metadata": {
        "id": "oykF9_ex7MUL"
      }
    }
  ]
}